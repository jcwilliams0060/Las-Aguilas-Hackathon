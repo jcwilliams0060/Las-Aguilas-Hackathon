{
  "nbformat": 4,
  "nbformat_minor": 0,
  "metadata": {
    "colab": {
      "provenance": [],
      "authorship_tag": "ABX9TyP+VhTTosNAtEHkE2CsMwrf",
      "include_colab_link": true
    },
    "kernelspec": {
      "name": "python3",
      "display_name": "Python 3"
    },
    "language_info": {
      "name": "python"
    }
  },
  "cells": [
    {
      "cell_type": "markdown",
      "metadata": {
        "id": "view-in-github",
        "colab_type": "text"
      },
      "source": [
        "<a href=\"https://colab.research.google.com/github/jcwilliams0060/Las-Aguilas-Hackathon/blob/main/Hackathon.ipynb\" target=\"_parent\"><img src=\"https://colab.research.google.com/assets/colab-badge.svg\" alt=\"Open In Colab\"/></a>"
      ]
    },
    {
      "cell_type": "markdown",
      "source": [
        "**Cell 1: Installation and Imports**"
      ],
      "metadata": {
        "id": "zPLp4XIFejlV"
      }
    },
    {
      "cell_type": "code",
      "execution_count": null,
      "metadata": {
        "id": "-fC-MbXzofI2"
      },
      "outputs": [],
      "source": [
        "# Run this cell to install necessary libraries\n",
        "!pip install python-docx\n",
        "!pip install docx\n",
        "!pip install pyresparser\n",
        "import os\n",
        "from docx import Document"
      ]
    },
    {
      "cell_type": "markdown",
      "source": [
        "**Cell 2: Defining Keywords**"
      ],
      "metadata": {
        "id": "7pdXMI-jsNcv"
      }
    },
    {
      "cell_type": "code",
      "source": [
        "# Creates a list of keywords that will be searched for in the resumes\n",
        "Keywords = input(\"Enter the elements separated by commas: \").split(',')\n",
        "\n",
        "# Display Keywords to the user.\n",
        "print(\"You entered the following keywords:\", Keywords)\n"
      ],
      "metadata": {
        "id": "PkpVQfj2sM9b"
      },
      "execution_count": null,
      "outputs": []
    },
    {
      "cell_type": "markdown",
      "source": [
        "**Cell 3: Uploading Resumes for Scanning**"
      ],
      "metadata": {
        "id": "bJdgel1-TVdx"
      }
    },
    {
      "cell_type": "code",
      "source": [
        "import zipfile\n",
        "\n",
        "# Replace 'your_zip_file.zip' with the name of your uploaded zip file\n",
        "zip_file_path = input(\"Type the name of the uploaded zip file here:\")\n",
        "\n",
        "# Replace 'destination_folder' with the name of the folder where you want to extract the contents\n",
        "destination_folder = input(\"Type the name of the folder which will store the contents of the unzipped file:\")\n",
        "\n",
        "\n",
        "# Unzip the file\n",
        "with zipfile.ZipFile(zip_file_path, 'r') as zip_ref:\n",
        "    zip_ref.extractall(destination_folder)\n"
      ],
      "metadata": {
        "id": "oBPsNGDVL4VL"
      },
      "execution_count": null,
      "outputs": []
    },
    {
      "cell_type": "markdown",
      "source": [
        "**Cell 4: Evaluating the Resumes**"
      ],
      "metadata": {
        "id": "6SWgt6HvfoCP"
      }
    },
    {
      "cell_type": "code",
      "source": [
        "# Define the folder path containing the Word documents\n",
        "folder_path = input(\"Go into the Files tab and copy the file path of the folder containing the resumes. Then, paste it here:\")\n",
        "\n",
        "# Iterate through all resumes in the folder\n",
        "for filename in os.listdir(folder_path):\n",
        "    if filename.endswith('.docx'):\n",
        "        # Construct the full path to the document\n",
        "        file_path = os.path.join(folder_path, filename)\n",
        "\n",
        "        # Read the Word document\n",
        "        document = Document(file_path)\n",
        "\n",
        "        # Declare/Reset an empty string variable\n",
        "        ResumeStuff = \"\"\n",
        "\n",
        "        # Convert contents of the resume to a string variable then upload\n",
        "        # them into the empty string.\n",
        "        for paragraph in document.paragraphs:\n",
        "            ResumeStuff +=paragraph.text\n",
        "\n",
        "        # Declare a counter to keep track of the number of keywords found in\n",
        "        # each resume\n",
        "        Keyword_Counter = 0\n",
        "\n",
        "        for keyword in Keywords:\n",
        "          # If a keyword is found in the resume\n",
        "          if re.search(keyword, ResumeStuff):\n",
        "            Keyword_Counter += 1\n",
        "\n",
        "        # Print the number of keywords found in the candidate's resume.\n",
        "        print(f\"Keywords found in {filename}:\", Keyword_Counter, \"/\", len(Keywords))\n",
        "\n"
      ],
      "metadata": {
        "id": "L6IJuOaoNyPS"
      },
      "execution_count": null,
      "outputs": []
    }
  ]
}